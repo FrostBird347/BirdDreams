{
  "cells": [
    {
      "cell_type": "code",
      "execution_count": null,
      "metadata": {
        "cellView": "form",
        "id": "VcaQKarEo3m1"
      },
      "outputs": [],
      "source": [
        "#@title Install dependencies\n",
        "\n",
        "%cd /content/\n",
        "!git clone https://github.com/NVlabs/stylegan2-ada-pytorch\n",
        "%cd stylegan2-ada-pytorch\n",
        "!pip install torch==1.7.1+cu110 torchvision==0.8.2+cu110 torchaudio===0.7.2 -f https://download.pytorch.org/whl/torc...\n",
        "!pip install click requests ninja imageio imageio-ffmpeg tqdm psutil scipy pyspng\n",
        "!pip install git+https://github.com/openai/CLIP.git\n",
        "!pip install kmeans-pytorch\n",
        "\n",
        "!add-apt-repository ppa:stebbins/handbrake-releases -y \n",
        "!apt-get install -y handbrake-cli "
      ]
    },
    {
      "cell_type": "code",
      "execution_count": null,
      "metadata": {
        "id": "He0FJ2Ihojov",
        "cellView": "form"
      },
      "outputs": [],
      "source": [
        "#@title Download projector_clip.py, the video compression settings and the model\n",
        "\n",
        "import os\n",
        "\n",
        "if not os.path.exists('projector_clip.py'):\n",
        " !wget https://gist.githubusercontent.com/pbaylies/671ef8434fd11f056bab4330e0e7c365/raw/f5306a51fc404b326607c317059731808ea14b1c/projector_clip.py\n",
        "if not os.path.exists('parrots_512_pytorch.pkl'):\n",
        "  !wget https://storage.googleapis.com/self-distilled-stylegan/parrots_512_pytorch.pkl\n",
        "if not os.path.exists('VideoCompression.json'):\n",
        "  !wget https://raw.githubusercontent.com/FrostBird347/BirdDreams/master/VideoCompression.json"
      ]
    },
    {
      "cell_type": "code",
      "source": [
        "#@title\n",
        "def GenSingleImage(additional_text, index, max, output, prompt, kmeans, learning_rate, steps, network, suffix, compress):\n",
        "  print(\"\\033[94mGenerating\" + str(additional_text) + \"image \" + str(index) + \"/\" + str(max) + \"\\033[0m\")\n",
        "  !python projector_clip.py --outdir=\"$output\" --target-text=\"$prompt\" --kmeans=$kmeans --lr=$learning_rate --num-steps=$steps --network=$network\n",
        "  \n",
        "  !mv \"{output}/proj.png\" \"{output}/{index}{suffix}.png\"\n",
        "  if compress:\n",
        "    !HandBrakeCLI -i \"{output}/proj.mp4\" --preset-import-file \"./VideoCompression.json\" -Z \"BirdDreams\" -o \"{output}/{index}{suffix}.mp4\"\n",
        "    if not os.path.exists(path.normpath(str(output) + \"/\" + str(index) + str(suffix) + \".mp4\")):\n",
        "      !mv \"{output}/proj.mp4\" \"{output}/{index}{suffix}.mp4\"\n",
        "    else:\n",
        "      !rm \"{output}/proj.mp4\"\n",
        "  else:\n",
        "    !mv \"{output}/proj.mp4\" \"{output}/{index}{suffix}.mp4\"\n",
        "  \n",
        "  print(\"Displaying final image...\")\n",
        "  display(Image(path.normpath(str(output) + '/' + str(index) + str(suffix) + '.png')))\n"
      ],
      "metadata": {
        "cellView": "form",
        "id": "5lI37iAqcDkQ"
      },
      "execution_count": null,
      "outputs": []
    },
    {
      "cell_type": "code",
      "execution_count": null,
      "metadata": {
        "id": "nSiffdn2pJl0",
        "cellView": "form"
      },
      "outputs": [],
      "source": [
        "#@title Configure and generate images\n",
        "\n",
        "#@markdown Image generation:<br>(if 'kmeans' is set to 'both' then twice as many images will be generated)\n",
        "prompt = 'Happy macaw' #@param {type:\"string\"}\n",
        "kmeans = 'Both' #@param [\"Yes\", \"No\", \"Both\"]\n",
        "steps = 250 #@param {type:\"integer\"}\n",
        "learning_rate = 0.025 #@param {type:\"number\"}\n",
        "\n",
        "#@markdown Output:<br>(google drive can be accessed at '/content/drive/MyDrive')\n",
        "output_location = '/content/out' #@param {type:\"string\"}\n",
        "mount_google_drive = False #@param {type:\"boolean\"}\n",
        "wipe_output_folder_at_start = True #@param {type:\"boolean\"}\n",
        "number_of_images = 1 #@param {type:\"integer\"}\n",
        "compress_videos = True #@param {type:\"boolean\"}\n",
        "\n",
        "first_is_kmeans = (kmeans == 'Yes')\n",
        "\n",
        "\n",
        "from IPython.display import Image, display\n",
        "from os import path\n",
        "from google.colab import drive\n",
        "\n",
        "if mount_google_drive:\n",
        "  drive.mount('/content/drive')\n",
        "\n",
        "if wipe_output_folder_at_start:\n",
        "  !rm $output_location/*\n",
        "\n",
        "for x in range(1, number_of_images + 1):\n",
        "  GenSingleImage(' ', x, number_of_images, output_location, prompt, first_is_kmeans, learning_rate, steps, \"parrots_512_pytorch.pkl\", \"_\", compress_videos)\n",
        "  #final_image_list += [path.normpath(str(output_location) + '/' + str(x) + '_.png')]\n",
        "  #final_video_list += [path.normpath(str(output_location) + '/' + str(x) + '_.mp4')]\n",
        "\n",
        "  if (kmeans == 'Both'):\n",
        "    GenSingleImage(\" (kmeans) \", x, number_of_images, output_location, prompt, first_is_kmeans, learning_rate, steps, \"parrots_512_pytorch.pkl\", \"_k\", compress_videos)\n",
        "    #final_image_list += [path.normpath(str(output_location) + '/' + str(x) + '_k.png')]\n",
        "    #final_video_list += [path.normpath(str(output_location) + '/' + str(x) + '_k.mp4')]\n",
        "\n"
      ]
    }
  ],
  "metadata": {
    "accelerator": "GPU",
    "colab": {
      "provenance": []
    },
    "gpuClass": "standard",
    "kernelspec": {
      "display_name": "Python 3",
      "name": "python3"
    },
    "language_info": {
      "name": "python"
    }
  },
  "nbformat": 4,
  "nbformat_minor": 0
}